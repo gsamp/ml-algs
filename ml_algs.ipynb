{
  "nbformat": 4,
  "nbformat_minor": 0,
  "metadata": {
    "colab": {
      "provenance": [],
      "collapsed_sections": [
        "p7q6SNiFLPlO",
        "QyiAwIywl67h",
        "aW9LZ-sOUsBv",
        "DOnCefVo58ql"
      ],
      "gpuType": "T4",
      "include_colab_link": true
    },
    "kernelspec": {
      "name": "python3",
      "display_name": "Python 3"
    },
    "language_info": {
      "name": "python"
    },
    "accelerator": "GPU"
  },
  "cells": [
    {
      "cell_type": "markdown",
      "metadata": {
        "id": "view-in-github",
        "colab_type": "text"
      },
      "source": [
        "<a href=\"https://colab.research.google.com/github/gsamp/ml-algs/blob/main/ml_algs.ipynb\" target=\"_parent\"><img src=\"https://colab.research.google.com/assets/colab-badge.svg\" alt=\"Open In Colab\"/></a>"
      ]
    },
    {
      "cell_type": "markdown",
      "source": [
        "# Imports"
      ],
      "metadata": {
        "id": "5gK4rnJ6F3ex"
      }
    },
    {
      "cell_type": "code",
      "execution_count": null,
      "metadata": {
        "id": "RkQzkfaDTmCg"
      },
      "outputs": [],
      "source": [
        "# main imports\n",
        "import torch\n",
        "import numpy as np\n",
        "import matplotlib.pyplot as plt\n",
        "import seaborn as sns\n",
        "import math\n",
        "import random\n",
        "from numpy.linalg import norm\n",
        "\n",
        "# model setup, training utils\n",
        "import torch.nn as nn\n",
        "import torch.nn.functional as F\n",
        "from torch import optim\n",
        "from tqdm import tqdm\n",
        "\n",
        "# debug\n",
        "import pdb"
      ]
    },
    {
      "cell_type": "markdown",
      "source": [
        "# First Stage"
      ],
      "metadata": {
        "id": "TbWEGiVv6BHu"
      }
    },
    {
      "cell_type": "markdown",
      "source": [
        "## Regression"
      ],
      "metadata": {
        "id": "YDFIr5wv6rN2"
      }
    },
    {
      "cell_type": "markdown",
      "source": [
        "### **Dataset**"
      ],
      "metadata": {
        "id": "p7q6SNiFLPlO"
      }
    },
    {
      "cell_type": "code",
      "source": [
        "print(torch.cuda.device_count())"
      ],
      "metadata": {
        "colab": {
          "base_uri": "https://localhost:8080/"
        },
        "id": "aq7o8WnVFlmE",
        "outputId": "084a2775-2af3-4213-9ae1-baaf1d9cca40"
      },
      "execution_count": null,
      "outputs": [
        {
          "output_type": "stream",
          "name": "stdout",
          "text": [
            "1\n"
          ]
        }
      ]
    },
    {
      "cell_type": "code",
      "source": [
        "n = 500\n",
        "d = 1\n",
        "x = np.random.uniform(low=0, high=20, size=(n, d))\n",
        "y = x * np.abs(np.sin(x)) + x + np.random.normal(loc=0, scale=1.0, size=(n, d))\n",
        "\n",
        "# 75/25 train/val split\n",
        "x_train = torch.Tensor(x[:int(len(x)*0.75)])\n",
        "x_val = torch.Tensor(x[int(len(x)*0.75):])\n",
        "\n",
        "y_train = torch.Tensor(y[:int(len(y)*0.75)])\n",
        "y_val = torch.Tensor(y[int(len(y)*0.75):])"
      ],
      "metadata": {
        "id": "hNnFJSkCTpcj"
      },
      "execution_count": null,
      "outputs": []
    },
    {
      "cell_type": "code",
      "source": [
        "plt.scatter(x, y, c =\"blue\")"
      ],
      "metadata": {
        "colab": {
          "base_uri": "https://localhost:8080/",
          "height": 467
        },
        "id": "Gx1nTaNjq_XP",
        "outputId": "d9659fb4-7e2a-48bb-ac33-1fa8312483e5"
      },
      "execution_count": null,
      "outputs": [
        {
          "output_type": "execute_result",
          "data": {
            "text/plain": [
              "<matplotlib.collections.PathCollection at 0x7da5b71b64d0>"
            ]
          },
          "metadata": {},
          "execution_count": 18
        },
        {
          "output_type": "display_data",
          "data": {
            "text/plain": [
              "<Figure size 640x480 with 1 Axes>"
            ],
            "image/png": "[encoded data removed]"
          },
          "metadata": {}
        }
      ]
    },
    {
      "cell_type": "markdown",
      "source": [
        "### **Linear Regression with Linear Function Approximation**"
      ],
      "metadata": {
        "id": "W3Twj584Fo0f"
      }
    },
    {
      "cell_type": "code",
      "source": [
        "# y = W*x + b\n",
        "# 1 =  (1, d) (d, 1)     1\n",
        "#      (a, b) * (b, a) = (a, a)\n",
        "\n",
        "class LinearModel(nn.Module):\n",
        "    def __init__(self):\n",
        "        # initializes using parent method\n",
        "        super().__init__()\n",
        "        # set up linear model params\n",
        "        self.W = nn.Parameter(torch.randn(d, 1))\n",
        "        self.b = nn.Parameter(torch.randn(d))\n",
        "\n",
        "    # define the linear function that we are using to approximate the dataset\n",
        "    def forward(self, x):\n",
        "        # assert it's 2-dimensional\n",
        "        assert len(x.shape) == 2\n",
        "        assert x.shape[1] == d\n",
        "        # import pdb; pdb.set_trace()\n",
        "        return x @ self.W + self.b"
      ],
      "metadata": {
        "id": "sfbLQpTirpu5"
      },
      "execution_count": null,
      "outputs": []
    },
    {
      "cell_type": "code",
      "source": [
        "# (y_pred - y)^2 / n\n",
        "\n",
        "def loss(y_pred, y):\n",
        "    assert len(y.shape) == 1\n",
        "    assert len(y_pred.shape) == 1\n",
        "    # this is the same as dividing by n but cleaner\n",
        "    # we specify the dimension so torch doesnt squash them\n",
        "    return torch.square(y_pred - y).mean(dim=0)\n",
        "\n",
        "m = 10\n",
        "y_pred = torch.randn(m)\n",
        "y_target = torch.randn(m)\n",
        "assert F.mse_loss(y_pred, y_target, reduction='mean') == loss(y_pred, y_target)"
      ],
      "metadata": {
        "id": "o60pjyIWsnT3"
      },
      "execution_count": null,
      "outputs": []
    },
    {
      "cell_type": "code",
      "source": [
        "num_epochs = 1000\n",
        "batch_size = 10\n",
        "lr = 0.005\n",
        "\n",
        "def train(model):\n",
        "    optimizer = optim.SGD(model.parameters(), lr = lr)\n",
        "    print(f'Loss before: {F.mse_loss(model(x_val), y_val, reduction=\"mean\")}')\n",
        "\n",
        "    for epoch_index in tqdm(range(num_epochs)):\n",
        "        index = 0\n",
        "        while index + batch_size < x_train.shape[0]:\n",
        "            x_batch = x_train[index:index + batch_size]\n",
        "            y_batch = y_train[index:index + batch_size]\n",
        "            index += batch_size\n",
        "\n",
        "            l = F.mse_loss(model(x_batch), y_batch, reduction=\"mean\")\n",
        "            optimizer.zero_grad()\n",
        "\n",
        "            l.backward()\n",
        "            optimizer.step()\n",
        "\n",
        "        if epoch_index % 100 == 0:\n",
        "            print(f'Loss after: {F.mse_loss(model(x_val), y_val, reduction=\"mean\")}')\n",
        "\n",
        "    print(f'Loss after: {F.mse_loss(model(x_val), y_val, reduction=\"mean\")}')\n",
        "\n",
        "model = LinearModel()\n",
        "train(model)"
      ],
      "metadata": {
        "colab": {
          "base_uri": "https://localhost:8080/"
        },
        "id": "i11AY8eqykQW",
        "outputId": "0daf253c-4005-447d-e69f-084eaf942fa2"
      },
      "execution_count": null,
      "outputs": [
        {
          "output_type": "stream",
          "name": "stdout",
          "text": [
            "Loss before: 101.95079040527344\n"
          ]
        },
        {
          "output_type": "stream",
          "name": "stderr",
          "text": [
            "  1%|          | 6/1000 [00:00<00:16, 58.84it/s]"
          ]
        },
        {
          "output_type": "stream",
          "name": "stdout",
          "text": [
            "Loss after: 13.015144348144531\n"
          ]
        },
        {
          "output_type": "stream",
          "name": "stderr",
          "text": [
            " 11%|█         | 108/1000 [00:01<00:16, 55.52it/s]"
          ]
        },
        {
          "output_type": "stream",
          "name": "stdout",
          "text": [
            "Loss after: 12.868857383728027\n"
          ]
        },
        {
          "output_type": "stream",
          "name": "stderr",
          "text": [
            " 21%|██        | 207/1000 [00:04<00:19, 41.09it/s]"
          ]
        },
        {
          "output_type": "stream",
          "name": "stdout",
          "text": [
            "Loss after: 12.868878364562988\n"
          ]
        },
        {
          "output_type": "stream",
          "name": "stderr",
          "text": [
            " 31%|███       | 311/1000 [00:06<00:12, 55.92it/s]"
          ]
        },
        {
          "output_type": "stream",
          "name": "stdout",
          "text": [
            "Loss after: 12.868878364562988\n"
          ]
        },
        {
          "output_type": "stream",
          "name": "stderr",
          "text": [
            " 41%|████      | 412/1000 [00:08<00:10, 54.60it/s]"
          ]
        },
        {
          "output_type": "stream",
          "name": "stdout",
          "text": [
            "Loss after: 12.868878364562988\n"
          ]
        },
        {
          "output_type": "stream",
          "name": "stderr",
          "text": [
            " 51%|█████     | 508/1000 [00:10<00:08, 57.83it/s]"
          ]
        },
        {
          "output_type": "stream",
          "name": "stdout",
          "text": [
            "Loss after: 12.868878364562988\n"
          ]
        },
        {
          "output_type": "stream",
          "name": "stderr",
          "text": [
            " 61%|██████    | 612/1000 [00:12<00:06, 58.51it/s]"
          ]
        },
        {
          "output_type": "stream",
          "name": "stdout",
          "text": [
            "Loss after: 12.868878364562988\n"
          ]
        },
        {
          "output_type": "stream",
          "name": "stderr",
          "text": [
            " 71%|███████   | 711/1000 [00:13<00:04, 57.98it/s]"
          ]
        },
        {
          "output_type": "stream",
          "name": "stdout",
          "text": [
            "Loss after: 12.868878364562988\n"
          ]
        },
        {
          "output_type": "stream",
          "name": "stderr",
          "text": [
            " 81%|████████  | 810/1000 [00:15<00:03, 53.43it/s]"
          ]
        },
        {
          "output_type": "stream",
          "name": "stdout",
          "text": [
            "Loss after: 12.868878364562988\n"
          ]
        },
        {
          "output_type": "stream",
          "name": "stderr",
          "text": [
            " 91%|█████████ | 906/1000 [00:17<00:02, 43.00it/s]"
          ]
        },
        {
          "output_type": "stream",
          "name": "stdout",
          "text": [
            "Loss after: 12.868878364562988\n"
          ]
        },
        {
          "output_type": "stream",
          "name": "stderr",
          "text": [
            "100%|██████████| 1000/1000 [00:19<00:00, 50.76it/s]"
          ]
        },
        {
          "output_type": "stream",
          "name": "stdout",
          "text": [
            "Loss after: 12.868878364562988\n"
          ]
        },
        {
          "output_type": "stream",
          "name": "stderr",
          "text": [
            "\n"
          ]
        }
      ]
    },
    {
      "cell_type": "code",
      "source": [
        "assert y.shape == x.shape\n",
        "plt.scatter(x, y, c =\"blue\")\n",
        "\n",
        "assert x_val.shape == y_val.shape\n",
        "plt.scatter(x_val, model(x_val).detach().numpy(), c=\"red\")"
      ],
      "metadata": {
        "colab": {
          "base_uri": "https://localhost:8080/",
          "height": 500
        },
        "id": "fkJgcnYX4dj8",
        "outputId": "39b68519-10b2-4710-c000-529236ebfdbf"
      },
      "execution_count": null,
      "outputs": [
        {
          "output_type": "stream",
          "name": "stdout",
          "text": [
            "(500, 1) (500, 1)\n",
            "torch.Size([125, 1]) torch.Size([125, 1])\n"
          ]
        },
        {
          "output_type": "execute_result",
          "data": {
            "text/plain": [
              "<matplotlib.collections.PathCollection at 0x792237278550>"
            ]
          },
          "metadata": {},
          "execution_count": 39
        },
        {
          "output_type": "display_data",
          "data": {
            "text/plain": [
              "<Figure size 640x480 with 1 Axes>"
            ],
            "image/png": "[encoded data removed]"
          },
          "metadata": {}
        }
      ]
    },
    {
      "cell_type": "markdown",
      "source": [
        "### **Gaussian MLE with Linear Parameter Approximation**"
      ],
      "metadata": {
        "id": "0YyjFk1YGFP2"
      }
    },
    {
      "cell_type": "code",
      "source": [
        "from torch.distributions import Normal\n",
        "\n",
        "class GaussianModel(nn.Module):\n",
        "    def __init__(self):\n",
        "        # initializes using parent method\n",
        "        super().__init__()\n",
        "        # set up  model params\n",
        "        self.W = nn.Parameter(torch.randn(d, 1))\n",
        "        self.b = nn.Parameter(torch.randn(d))\n",
        "        self.var = nn.Parameter(torch.ones(1))\n",
        "\n",
        "    # Given data (features), returns predicted output (labels)\n",
        "    # In this case, return the distribution because we want to be able to compute the\n",
        "    # probability of the true label under that distribution\n",
        "    def forward(self, x):\n",
        "        return Normal(x @ self.W + self.b, torch.sqrt(self.var))"
      ],
      "metadata": {
        "id": "e7nFDzmBGMtk"
      },
      "execution_count": null,
      "outputs": []
    },
    {
      "cell_type": "code",
      "source": [
        "# returns negative log likelihood loss\n",
        "def loss(y_pred, y):\n",
        "    return -1 * y_pred.log_prob(y).mean(dim=0)"
      ],
      "metadata": {
        "id": "C8KJZJFrAjsY"
      },
      "execution_count": null,
      "outputs": []
    },
    {
      "cell_type": "code",
      "source": [
        "num_epochs = 1000\n",
        "batch_size = 10\n",
        "lr = 0.05\n",
        "\n",
        "def train(model):\n",
        "    optimizer = optim.SGD(model.parameters(), lr = lr)\n",
        "    print(f'Loss before: {loss(model(x_val), y_val)}')\n",
        "\n",
        "    for epoch_index in tqdm(range(num_epochs)):\n",
        "        index = 0\n",
        "        while index + batch_size < x_train.shape[0]:\n",
        "            x_batch = x_train[index:index + batch_size]\n",
        "            y_batch = y_train[index:index + batch_size]\n",
        "            index += batch_size\n",
        "\n",
        "            l = loss(model(x_batch), y_batch)\n",
        "            optimizer.zero_grad()\n",
        "\n",
        "            l.backward() # retain_graph=True\n",
        "            optimizer.step()\n",
        "\n",
        "        if epoch_index % 100 == 0:\n",
        "            print(f'Loss after: {loss(model(x_batch), y_batch)}')\n",
        "\n",
        "    print(f'Loss after: {loss(model(x_val), y_val)}')\n",
        "\n",
        "model = GaussianModel()\n",
        "train(model)"
      ],
      "metadata": {
        "colab": {
          "base_uri": "https://localhost:8080/"
        },
        "id": "0gJGxhz1GTJ5",
        "outputId": "79150d13-dda7-4ce5-d1dd-5d89180bd487"
      },
      "execution_count": null,
      "outputs": [
        {
          "output_type": "stream",
          "name": "stdout",
          "text": [
            "Loss before: tensor([58.1113], grad_fn=<MulBackward0>)\n"
          ]
        },
        {
          "output_type": "stream",
          "name": "stderr",
          "text": [
            "  0%|          | 2/1000 [00:00<00:58, 17.06it/s]"
          ]
        },
        {
          "output_type": "stream",
          "name": "stdout",
          "text": [
            "Loss after: tensor([2.5817], grad_fn=<MulBackward0>)\n"
          ]
        },
        {
          "output_type": "stream",
          "name": "stderr",
          "text": [
            " 10%|█         | 104/1000 [00:03<00:33, 26.69it/s]"
          ]
        },
        {
          "output_type": "stream",
          "name": "stdout",
          "text": [
            "Loss after: tensor([2.5741], grad_fn=<MulBackward0>)\n"
          ]
        },
        {
          "output_type": "stream",
          "name": "stderr",
          "text": [
            " 20%|██        | 203/1000 [00:08<00:41, 19.19it/s]"
          ]
        },
        {
          "output_type": "stream",
          "name": "stdout",
          "text": [
            "Loss after: tensor([2.5779], grad_fn=<MulBackward0>)\n"
          ]
        },
        {
          "output_type": "stream",
          "name": "stderr",
          "text": [
            " 31%|███       | 306/1000 [00:12<00:24, 28.58it/s]"
          ]
        },
        {
          "output_type": "stream",
          "name": "stdout",
          "text": [
            "Loss after: tensor([2.5800], grad_fn=<MulBackward0>)\n"
          ]
        },
        {
          "output_type": "stream",
          "name": "stderr",
          "text": [
            " 40%|████      | 405/1000 [00:16<00:20, 29.32it/s]"
          ]
        },
        {
          "output_type": "stream",
          "name": "stdout",
          "text": [
            "Loss after: tensor([2.5811], grad_fn=<MulBackward0>)\n"
          ]
        },
        {
          "output_type": "stream",
          "name": "stderr",
          "text": [
            " 50%|█████     | 503/1000 [00:19<00:16, 30.26it/s]"
          ]
        },
        {
          "output_type": "stream",
          "name": "stdout",
          "text": [
            "Loss after: tensor([2.5816], grad_fn=<MulBackward0>)\n"
          ]
        },
        {
          "output_type": "stream",
          "name": "stderr",
          "text": [
            " 61%|██████    | 606/1000 [00:23<00:13, 28.71it/s]"
          ]
        },
        {
          "output_type": "stream",
          "name": "stdout",
          "text": [
            "Loss after: tensor([2.5819], grad_fn=<MulBackward0>)\n"
          ]
        },
        {
          "output_type": "stream",
          "name": "stderr",
          "text": [
            " 70%|███████   | 704/1000 [00:27<00:09, 30.30it/s]"
          ]
        },
        {
          "output_type": "stream",
          "name": "stdout",
          "text": [
            "Loss after: tensor([2.5820], grad_fn=<MulBackward0>)\n"
          ]
        },
        {
          "output_type": "stream",
          "name": "stderr",
          "text": [
            " 80%|████████  | 804/1000 [00:30<00:06, 30.25it/s]"
          ]
        },
        {
          "output_type": "stream",
          "name": "stdout",
          "text": [
            "Loss after: tensor([2.5821], grad_fn=<MulBackward0>)\n"
          ]
        },
        {
          "output_type": "stream",
          "name": "stderr",
          "text": [
            " 90%|█████████ | 903/1000 [00:34<00:04, 23.14it/s]"
          ]
        },
        {
          "output_type": "stream",
          "name": "stdout",
          "text": [
            "Loss after: tensor([2.5822], grad_fn=<MulBackward0>)\n"
          ]
        },
        {
          "output_type": "stream",
          "name": "stderr",
          "text": [
            "100%|██████████| 1000/1000 [00:38<00:00, 26.30it/s]"
          ]
        },
        {
          "output_type": "stream",
          "name": "stdout",
          "text": [
            "Loss after: tensor([2.6874], grad_fn=<MulBackward0>)\n"
          ]
        },
        {
          "output_type": "stream",
          "name": "stderr",
          "text": [
            "\n"
          ]
        }
      ]
    },
    {
      "cell_type": "code",
      "source": [
        "assert y.shape == x.shape\n",
        "plt.scatter(x, y, c =\"blue\")\n",
        "\n",
        "assert x_val.numpy().shape == y_val.numpy().shape\n",
        "\n",
        "plt.scatter(x_val, model(x_val).loc.detach().numpy(), c=\"red\")\n",
        "plt.errorbar(x_val, model(x_val).loc.reshape(-1).detach().numpy(), yerr=model(x_val).scale.mean().detach().numpy(), c=\"red\")"
      ],
      "metadata": {
        "colab": {
          "base_uri": "https://localhost:8080/",
          "height": 467
        },
        "id": "u61EnG8YLmae",
        "outputId": "6e19ad9e-d6dd-4665-9249-3d4a61fcdf4e"
      },
      "execution_count": null,
      "outputs": [
        {
          "output_type": "execute_result",
          "data": {
            "text/plain": [
              "<ErrorbarContainer object of 3 artists>"
            ]
          },
          "metadata": {},
          "execution_count": 129
        },
        {
          "output_type": "display_data",
          "data": {
            "text/plain": [
              "<Figure size 640x480 with 1 Axes>"
            ],
            "image/png": "[encoded data removed]"
          },
          "metadata": {}
        }
      ]
    },
    {
      "cell_type": "markdown",
      "source": [
        "## Neural Network: Arbitrary Function Approximator"
      ],
      "metadata": {
        "id": "wFJTqXKjztOZ"
      }
    },
    {
      "cell_type": "code",
      "source": [
        "class NeuralNetwork(nn.Module):\n",
        "    def __init__(self, num_hidden_layers, hidden_size, activation_fn, input_size):\n",
        "        super().__init__()\n",
        "        # get model architecture parameters\n",
        "        assert num_hidden_layers != 0, \"Please input a nonzero number of hidden layers\"\n",
        "        self.num_hidden_layers = num_hidden_layers\n",
        "        self.hidden_size = hidden_size\n",
        "        self.activation_fn = activation_fn\n",
        "\n",
        "        # wire together the layers\n",
        "        layers = nn.ModuleList()\n",
        "        layers.append(nn.Linear(input_size, self.hidden_size))\n",
        "        for layer in range(self.num_hidden_layers):\n",
        "            if layer == self.num_hidden_layers - 1:\n",
        "                layers.append(nn.Linear(self.hidden_size, output_size))\n",
        "                # since activation_fn is ReLU, we are not adding it here so we can return values < 0\n",
        "            else:\n",
        "                layers.append(nn.Linear(self.hidden_size, self.hidden_size))\n",
        "                layers.append(activation_fn)\n",
        "\n",
        "        self.layers = nn.Sequential(*layers)\n",
        "\n",
        "    def forward(self, x):\n",
        "        x_and_x_squared = torch.concatenate([x, torch.square(x)], dim=1)\n",
        "        return self.layers(x_and_x_squared)"
      ],
      "metadata": {
        "id": "zpZbAHDBTmoh"
      },
      "execution_count": null,
      "outputs": []
    },
    {
      "cell_type": "code",
      "source": [
        "def train(model, optimizer):\n",
        "    print('Before')\n",
        "    print(f'Train loss (over entire dataset): {F.l1_loss(model(x_train), y_train, reduction=\"mean\")}')\n",
        "    print(f'Val loss: {F.l1_loss(model(x_val), y_val, reduction=\"mean\")}')\n",
        "\n",
        "    for epoch_index in tqdm(range(num_epochs)):\n",
        "        index = 0\n",
        "        while index + batch_size < x_train.shape[0]:\n",
        "            x_batch = x_train[index:index + batch_size]\n",
        "            y_batch = y_train[index:index + batch_size]\n",
        "            index += batch_size\n",
        "\n",
        "            l = F.l1_loss(model(x_batch), y_batch, reduction=\"mean\")\n",
        "            optimizer.zero_grad()\n",
        "\n",
        "            l.backward()\n",
        "            optimizer.step()\n",
        "\n",
        "        if epoch_index % 100 == 0:\n",
        "            print(f'Train loss (last batch): {F.l1_loss(model(x_batch), y_batch, reduction=\"mean\")}')\n",
        "            print(f'Val loss: {F.l1_loss(model(x_val), y_val, reduction=\"mean\")}')\n",
        "\n",
        "    print('After')\n",
        "    print(f'Train loss (over entire dataset): {F.l1_loss(model(x_train), y_train, reduction=\"mean\")}')\n",
        "    print(f'Val loss: {F.l1_loss(model(x_val), y_val, reduction=\"mean\")}')"
      ],
      "metadata": {
        "id": "Z-I-_zIFaPt9"
      },
      "execution_count": null,
      "outputs": []
    },
    {
      "cell_type": "code",
      "source": [
        "# model params\n",
        "num_hidden_layers = 10\n",
        "hidden_size = 64\n",
        "activation_fn = nn.ReLU()\n",
        "input_size = 2\n",
        "output_size = 1\n",
        "batch_size = 100\n",
        "\n",
        "# training hyperparams\n",
        "num_epochs = 7000\n",
        "lr = 0.0005\n",
        "\n",
        "# train\n",
        "model = NeuralNetwork(num_hidden_layers, hidden_size, activation_fn, input_size)\n",
        "optimizer = optim.SGD(params=model.parameters(), lr = lr)\n",
        "train(model, optimizer)"
      ],
      "metadata": {
        "id": "49QhSJyqjGfg"
      },
      "execution_count": null,
      "outputs": []
    },
    {
      "cell_type": "code",
      "source": [
        "plt.clf()\n",
        "\n",
        "assert y.shape == x.shape\n",
        "plt.scatter(x, y, c =\"blue\")\n",
        "\n",
        "assert x_val.shape == y_val.shape\n",
        "plt.scatter(x_val, model(x_val).detach().numpy(), c=\"red\")"
      ],
      "metadata": {
        "colab": {
          "base_uri": "https://localhost:8080/",
          "height": 467
        },
        "id": "D6LJVqg9kB1G",
        "outputId": "2b03c765-8c15-441e-cabb-90a63c5928c5"
      },
      "execution_count": null,
      "outputs": [
        {
          "output_type": "execute_result",
          "data": {
            "text/plain": [
              "<matplotlib.collections.PathCollection at 0x79e537eaf550>"
            ]
          },
          "metadata": {},
          "execution_count": 10
        },
        {
          "output_type": "display_data",
          "data": {
            "text/plain": [
              "<Figure size 640x480 with 1 Axes>"
            ],
            "image/png": "[encoded data removed]"
          },
          "metadata": {}
        }
      ]
    },
    {
      "cell_type": "markdown",
      "source": [
        "## **Loss Functions**"
      ],
      "metadata": {
        "id": "A_F9BkhRNLAS"
      }
    },
    {
      "cell_type": "code",
      "source": [
        "# generate data\n",
        "x = np.random.uniform(low=0, high=20, size=(n, d))\n",
        "y_target = x * np.abs(np.sin(x)) + x + np.random.normal(loc=0, scale=1.0, size=(n, d))\n",
        "y_pred = x * np.abs(np.sin(x)) + x + np.random.normal(loc=0, scale=10.0, size=(n, d))\n",
        "\n",
        "y_target = torch.Tensor(y_target)\n",
        "y_pred = torch.Tensor(y_pred)"
      ],
      "metadata": {
        "id": "beYeCJSvQkfq"
      },
      "execution_count": null,
      "outputs": []
    },
    {
      "cell_type": "markdown",
      "source": [
        "#### Regression\n",
        "1. Mean Squared Error Loss\n",
        "2. Mean Absolute Error Loss"
      ],
      "metadata": {
        "id": "iet9lClsPKfn"
      }
    },
    {
      "cell_type": "code",
      "source": [
        "def mean_squared_error(y_pred, y_target):\n",
        "    # this is the same as dividing by n but cleaner\n",
        "    # we specify the dimension so torch doesnt squash them\n",
        "    return torch.square(y_pred - y_target).mean(dim=0)\n",
        "\n",
        "assert F.mse_loss(y_pred, y_target, reduction='mean') == mean_squared_error(y_pred, y_target), \"MSE does not match\""
      ],
      "metadata": {
        "id": "BlwSwFHkQzXR"
      },
      "execution_count": null,
      "outputs": []
    },
    {
      "cell_type": "code",
      "source": [
        "def mean_abs_error(y_pred, y_target):\n",
        "    # this is the same as dividing by n but cleaner\n",
        "    # we specify the dimension so torch doesnt squash them\n",
        "    return torch.abs(y_pred - y_target).mean(dim=0)\n",
        "\n",
        "assert F.l1_loss(y_pred, y_target, reduction='mean') == mean_abs_error(y_pred, y_target), \"MAE does not match\""
      ],
      "metadata": {
        "id": "SYjPd_KDPUH2"
      },
      "execution_count": null,
      "outputs": []
    },
    {
      "cell_type": "markdown",
      "source": [
        "#### Classification\n",
        "Binary Cross-Entropy\n",
        "\n",
        "When training a classifier neural network, minimizing the cross-entropy loss during training is equivalent to helping the model learn to predict the correct labels with higher confidence.\n",
        "\n",
        "- When the true label t is 1, the cross-entropy loss approaches 0 as the predicted probability p approaches 1 and\n",
        "- When the true label t is 0, the cross-entropy loss approaches 0 as the predicted probability p approaches 0.\n",
        "\n",
        "When the true and predicted values are closer, the cross-entropy loss is lower; the loss increases when the true and predicted values are different."
      ],
      "metadata": {
        "id": "VnkUlPr-PO-r"
      }
    },
    {
      "cell_type": "code",
      "source": [
        "import torch\n",
        "import torch.nn.functional as F\n",
        "\n",
        "def binary_cross_entropy(true, pred):\n",
        "    return - (true * pred.log() + (1 - true) * (1 - pred).log()).mean()\n",
        "\n",
        "t = torch.tensor([ 0.0,  1.0,  0.0,  0.0,  0.0])\n",
        "p = torch.tensor([0.07, 0.91, 0.74, 0.23, 0.85])\n",
        "\n",
        "assert binary_cross_entropy(t, p) == F.binary_cross_entropy(p, t, reduction='mean')\n",
        "assert binary_cross_entropy(t, torch.sigmoid(p)) == F.binary_cross_entropy(torch.sigmoid(p), t, reduction='mean')\n",
        "\n",
        "print(binary_cross_entropy(t, p))\n",
        "print(binary_cross_entropy(t, torch.sigmoid(p)))"
      ],
      "metadata": {
        "colab": {
          "base_uri": "https://localhost:8080/"
        },
        "id": "LLryxHjfrVxJ",
        "outputId": "818e2540-4339-4135-9f2c-f68dfc4bc4d4"
      },
      "execution_count": null,
      "outputs": [
        {
          "output_type": "stream",
          "name": "stdout",
          "text": [
            "tensor(0.7345)\n",
            "tensor(0.8435)\n"
          ]
        }
      ]
    },
    {
      "cell_type": "markdown",
      "source": [
        "#### Precision, Recall, F1\n",
        "- Precision: What proportion of positive identifications was actually correct? How many retrieved items are relevant?  \n",
        "\n",
        "Precision = $\\frac{TP}{TP + FP}$\n",
        "\n",
        "\n",
        "\n",
        "- Recall: What proportion of actual positives was identified correctly? How many relevant items are retrieved?\n",
        "\n",
        "Recall = $\\frac{TP}{TP + FN}$\n",
        "\n",
        "- F1: Harmonic mean of precision and recall\n",
        "\n",
        "F1 = $\\frac{2}{\\frac{1}{P} + \\frac{1}{R}} = \\frac{2 * P * R}{P + R}$\n"
      ],
      "metadata": {
        "id": "J_iiAdpcPV1C"
      }
    },
    {
      "cell_type": "markdown",
      "source": [
        "## **Activation Functions**"
      ],
      "metadata": {
        "id": "OXFu81zKNSr-"
      }
    },
    {
      "cell_type": "markdown",
      "source": [
        "![activation_functions.png](data:image/png;base64,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)"
      ],
      "metadata": {
        "id": "bAeDKDjXytXk"
      }
    },
    {
      "cell_type": "markdown",
      "source": [
        "Common issues with some activation functions:\n",
        "\n",
        "*   Vanishing gradients (Sigmoid, tanh and ReLU): when outputs of the tanh unit are in the flat region of the tanh, gradients don't flow to the previous layers, so learning is impeded.\n",
        "*   Dead neuron: not a single example \"activates\" the neuron"
      ],
      "metadata": {
        "id": "yr2JAwJtzwat"
      }
    },
    {
      "cell_type": "markdown",
      "source": [
        "## Math"
      ],
      "metadata": {
        "id": "qO2F4Z4O6GSs"
      }
    },
    {
      "cell_type": "markdown",
      "source": [
        "- Describe what convex function is? Why do we want convex functions?\n",
        "- What is gradient descent?\n",
        "- What are second-order optimisation algorithms?\n",
        "- How can the 2nd derivative be used in an optimisation algorithm?\n",
        "- Describe Newton's method? Where does it come from? How can it be adapted to find a minimum in a function?\n",
        "- What is the formula for the Taylor series? Why does it make sense? Why is there a 1/n! in the formula?\n",
        "- What is Bayes' Formula? Can you give an example?\n",
        "- What is an invertible matrix? What are the criteria that apply? What are the procedures to invert a Matrix? Can you describe the Gauss Process to invert a matrix?\n",
        "- Q: What is convex function? Q: What is eigenvalue/eigenvectors? Q: Have you trained models that exceed GPU memory usage?"
      ],
      "metadata": {
        "id": "rQLqntoR6OPB"
      }
    },
    {
      "cell_type": "markdown",
      "source": [
        "## Classification / Clustering"
      ],
      "metadata": {
        "id": "UhtJdf8h6wCb"
      }
    },
    {
      "cell_type": "markdown",
      "source": [
        "### **Dataset**"
      ],
      "metadata": {
        "id": "QyiAwIywl67h"
      }
    },
    {
      "cell_type": "code",
      "source": [
        "# sample random n from [5, 10]\n",
        "num_clusters = random.randint(5, 10)\n",
        "\n",
        "# for KNN\n",
        "num_clusters = 4\n",
        "\n",
        "N = 50\n",
        "g = np.random.default_rng()\n",
        "\n",
        "X = []\n",
        "for i in range(num_clusters):\n",
        "  means = np.random.random_sample(size=(2)) * 50\n",
        "  cov_xy = np.random.random_sample()\n",
        "  var_xx, var_yy = np.random.randint(low=1, high=10, size=(2))\n",
        "  cov = np.array([[var_xx, cov_xy],\n",
        "                  [cov_xy, var_yy]])\n",
        "  pairs = g.multivariate_normal(means, cov, size=N, check_valid='raise')\n",
        "  X.append(pairs)\n",
        "\n",
        "X = np.array(X).reshape(num_clusters * N, 2)\n",
        "\n",
        "# Plot it at the end\n",
        "fig, ax = plt.subplots()\n",
        "ax.scatter(X[:,0], X[:,1])"
      ],
      "metadata": {
        "colab": {
          "base_uri": "https://localhost:8080/",
          "height": 467
        },
        "id": "ckGChpu6UDgi",
        "outputId": "86da1fdf-0174-4b10-e2ab-f4552db2c787"
      },
      "execution_count": null,
      "outputs": [
        {
          "output_type": "execute_result",
          "data": {
            "text/plain": [
              "<matplotlib.collections.PathCollection at 0x7bb424bd5d80>"
            ]
          },
          "metadata": {},
          "execution_count": 4
        },
        {
          "output_type": "display_data",
          "data": {
            "text/plain": [
              "<Figure size 640x480 with 1 Axes>"
            ],
            "image/png": "[encoded data removed]"
          },
          "metadata": {}
        }
      ]
    },
    {
      "cell_type": "markdown",
      "source": [
        "### **K-Means**"
      ],
      "metadata": {
        "id": "aW9LZ-sOUsBv"
      }
    },
    {
      "cell_type": "code",
      "source": [
        "# https://towardsdatascience.com/k-means-clustering-algorithm-applications-evaluation-methods-and-drawbacks-aa03e644b48a\n",
        "\n",
        "class Kmeans:\n",
        "  def __init__(self, num_clusters, max_iter, random_seed):\n",
        "    self.num_clusters = num_clusters\n",
        "    self.max_iter = max_iter\n",
        "    self.random_seed = random_seed\n",
        "\n",
        "\n",
        "  def initialize_centroids(self, X):\n",
        "    # set the random seed\n",
        "    np.random.RandomState(self.random_seed)\n",
        "    # randomly permute the locations of the data points\n",
        "    random_idx = np.random.permutation(X.shape[0])\n",
        "    # get the first k random elements as the centroids\n",
        "    centroids = X[random_idx[:self.num_clusters]]\n",
        "    return centroids\n",
        "\n",
        "\n",
        "  def compute_centroids(self, X, labels):\n",
        "    # initialize centroids of shape (num_clusters, d)\n",
        "    centroids = np.zeros((self.num_clusters, X.shape[1]))\n",
        "\n",
        "    # for each cluster i, assign a new centroid value, which is the mean of the points in the current partition\n",
        "    for i in range(self.num_clusters):\n",
        "      # print(np.array(X[labels == i, :]))\n",
        "      centroids[i, :] = np.mean(X[labels == i, :], axis = 0)\n",
        "\n",
        "    # print(\"compute centroids: \", centroids)\n",
        "    return centroids\n",
        "\n",
        "  def compute_distance(self, X, centroids):\n",
        "    # initialize distance of shape (N, num_clusters)\n",
        "    distance = np.zeros((X.shape[0], self.num_clusters))\n",
        "    # for each cluster (row in centroids but column in distance)\n",
        "    for i in range(self.num_clusters):\n",
        "      row_norm = norm(X - centroids[i, :], axis = 1)\n",
        "      distance[:, i] = np.square(row_norm)\n",
        "    return distance\n",
        "\n",
        "\n",
        "  # reduces the dimensionality by picking the closest centroid\n",
        "  def find_closest_cluster(self, distance):\n",
        "    return np.argmin(distance, axis = 1)\n",
        "\n",
        "\n",
        "  # computes the distance between each centroid and the elements that belong to that cluster\n",
        "  def compute_sum_squared_error(self, X, labels, centroids):\n",
        "    distance = np.zeros(X.shape[0])\n",
        "    for i in range(self.num_clusters):\n",
        "      distance[labels == i] = norm(X[labels == i] - centroids[i, :], axis = 1)\n",
        "    return np.sum(np.square(distance))\n",
        "\n",
        "\n",
        "  def fit(self, X):\n",
        "    self.centroids = self.initialize_centroids(X)\n",
        "    for i in range(self.max_iter):\n",
        "      old_centroids = self.centroids\n",
        "      # get distance for each centroid and each element in X\n",
        "      distance = self.compute_distance(X, old_centroids) # (500, 3)\n",
        "      # get the closest\n",
        "      self.labels = self.find_closest_cluster(distance) # (500,)\n",
        "      # get new centroids by computing the mean of the elements in the new centroids\n",
        "      self.centroids = self.compute_centroids(X, self.labels)\n",
        "      # stop if centroids did not change\n",
        "      if np.all(old_centroids == self.centroids):\n",
        "        break\n",
        "    # compute the distance between each centroid and the elements that belong to that cluster\n",
        "    self.error = self.compute_sum_squared_error(X, self.labels, self.centroids)\n",
        "\n",
        "  # assign a centroid for each element in the input\n",
        "  def predict(self, X):\n",
        "    distance = self.compute_distance(X, self.centroids)\n",
        "    return self.find_closest_cluster(distance)\n"
      ],
      "metadata": {
        "id": "n8T18qChhJgg"
      },
      "execution_count": null,
      "outputs": []
    },
    {
      "cell_type": "code",
      "source": [
        "km = Kmeans(3, 2, 123)\n",
        "km.fit(X)"
      ],
      "metadata": {
        "id": "zjRI_EbqTOar"
      },
      "execution_count": null,
      "outputs": []
    },
    {
      "cell_type": "markdown",
      "source": [
        "### **KNN**\n",
        "\n",
        "- Does not require any assumptions about the underlying data distribution.\n",
        "- Can handle both numerical and categorical data, making it a flexible choice for various types of datasets in classification and regression tasks.\n",
        "- It is a non-parametric method that makes predictions based on the similarity of data points in a given dataset.\n",
        "- K-NN is less sensitive to outliers compared to other algorithms."
      ],
      "metadata": {
        "id": "hAtlbJ0lXkZi"
      }
    },
    {
      "cell_type": "code",
      "source": [
        "\"\"\"\n",
        "Let X be the training dataset with n data points,\n",
        "where each data point is represented by a d-dimensional feature vector X_i\n",
        "and Y be the corresponding labels or values for each data point in X.\n",
        "Given a new data point x, the algorithm calculates the distance between x\n",
        "and each data point X_i in X using a distance metric, such as Euclidean\n",
        "distance.\n",
        "\"\"\"\n",
        "\n",
        "\n",
        "def most_common(lst):\n",
        "  return max(set(lst), key = lst.count)\n",
        "\n",
        "\n",
        "# Returns the euclidean distance between 2 vectors, vec_1 and vec_2, of same shape\n",
        "# sqrt(sum(squared(difference)))\n",
        "def euclidean_distance(vec_1, vec_2):\n",
        "  assert np.array(vec_1).shape == np.array(vec_2).shape\n",
        "  distance = 0.0\n",
        "\n",
        "  difference = vec_1 - vec_2\n",
        "  squared_sum = np.dot(difference.T, difference)\n",
        "  distance = np.sqrt(squared_sum)\n",
        "  print(\"mine: \", distance)\n",
        "\n",
        "  distance = np.sqrt(np.sum(np.square(vec_1 - vec_2)))\n",
        "  print(\"mine 2: \", distance)\n",
        "\n",
        "  distance = np.linalg.norm(vec_1 - vec_2)\n",
        "  print(\"ref: \", distance)\n",
        "  return distance\n",
        "\n",
        "\n",
        "def calculate_vectorized_euclidean_distance(train_dataset, test_element):\n",
        "  differences = train_dataset - test_element\n",
        "  distance =  np.sqrt(np.sum(np.square(differences)))\n",
        "  print(\"mine vectorized: \", differences, np.array(differences).shape)\n",
        "  return distance\n",
        "\n",
        "\n",
        "class KNN:\n",
        "  def __init__(self, k = 3):\n",
        "    self.k = k\n",
        "\n",
        "\n",
        "  def fit(self, X_train, y_train):\n",
        "    self.X_train = X_train\n",
        "    self.y_train = y_train\n",
        "\n",
        "\n",
        "  def predict(self, X_test):\n",
        "    neighbors = []\n",
        "    for x in X_test:\n",
        "      distances = euclidean_distance(x, self.X_train)\n",
        "      y_sorted = [y for _, y in sorted(zip(distances, self.y_train))]\n",
        "      neighbors.append(y_sorted[:self.k])\n",
        "    return list(map(most_common, neighbors))"
      ],
      "metadata": {
        "id": "y0Vidls2XqB-"
      },
      "execution_count": null,
      "outputs": []
    },
    {
      "cell_type": "markdown",
      "source": [
        "### **Logistic Regression**"
      ],
      "metadata": {
        "id": "dvXz0Gh6fSPl"
      }
    },
    {
      "cell_type": "code",
      "source": [
        "class LogisticRegression(nn.Module):\n",
        "    def __init__(self):\n",
        "        # initializes using parent method\n",
        "        super().__init__()\n",
        "        # set up linear model params\n",
        "        self.W = nn.Parameter(torch.zeros(4, 1))\n",
        "        self.b = nn.Parameter(torch.zeros(3, 1))\n",
        "\n",
        "    # define the linear function that we are using to approximate the dataset\n",
        "    def forward(self, x):\n",
        "        logits = x @ self.W + self.b  # (3, 1)\n",
        "        probs = torch.sigmoid(logits)\n",
        "\n",
        "        #print(logits.shape)\n",
        "        #print(probs.shape)\n",
        "        return probs\n",
        "\n",
        "\n",
        "learning_rate = 1e-1\n",
        "epochs = 100\n",
        "\n",
        "x = torch.randn((3, 4))\n",
        "y = torch.tensor([[0.0, 1.0, 0.0]]) # shape (3, 1)\n",
        "\n",
        "model = LogisticRegression()\n",
        "optimizer = torch.optim.Adam(params=model.parameters(), lr=learning_rate)\n",
        "\n",
        "print(\"Loss before: \", F.binary_cross_entropy(model(x), y.T).item())\n",
        "\n",
        "def train(learning_rate, epochs):\n",
        "    for _ in range(epochs):\n",
        "        preds = model(x)\n",
        "        loss = F.binary_cross_entropy(preds, y.T)\n",
        "        optimizer.zero_grad()\n",
        "\n",
        "        loss.backward()\n",
        "        optimizer.step()\n",
        "\n",
        "    print(\"Loss after: \", loss.item())\n",
        "    print(\"Pred after: \", model(x), \" true label: \", y.T)\n",
        "\n",
        "train(learning_rate, epochs)"
      ],
      "metadata": {
        "id": "qzhc6PJ1fR1L",
        "colab": {
          "base_uri": "https://localhost:8080/"
        },
        "outputId": "f334d093-5544-4e62-af38-621f148331a7"
      },
      "execution_count": null,
      "outputs": [
        {
          "output_type": "stream",
          "name": "stdout",
          "text": [
            "Loss before:  0.6931471824645996\n",
            "Loss after:  0.004901247099041939\n",
            "Pred after:  tensor([[0.0021],\n",
            "        [0.9996],\n",
            "        [0.0120]], grad_fn=<SigmoidBackward0>)  true label:  tensor([[0.],\n",
            "        [1.],\n",
            "        [0.]])\n"
          ]
        }
      ]
    },
    {
      "cell_type": "markdown",
      "source": [
        "## Second Stage"
      ],
      "metadata": {
        "id": "DOnCefVo58ql"
      }
    },
    {
      "cell_type": "markdown",
      "source": [
        "### **Distributed Computing (half GPU, half CPU)**"
      ],
      "metadata": {
        "id": "yBhDDcv8QDTy"
      }
    },
    {
      "cell_type": "markdown",
      "source": [
        "- https://pytorch.org/tutorials/intermediate/dist_tuto.html\n",
        "- https://www.scaler.com/topics/pytorch/distributed-training-with-pytorch/\n",
        "- https://www.youtube.com/watch?v=9kIvQOiwYzg&list=PL_lsbAsL_o2CSuhUhJIiW0IkdT5C2wGWj&index=6\n",
        "- https://pytorch.org/tutorials/beginner/ddp_series_multigpu.html"
      ],
      "metadata": {
        "id": "Pq8Iibry5wQP"
      }
    },
    {
      "cell_type": "markdown",
      "source": [
        "## Running on GPU"
      ],
      "metadata": {
        "id": "pie40Bs2Gfdk"
      }
    },
    {
      "cell_type": "code",
      "source": [
        "torch.cuda.is_available()"
      ],
      "metadata": {
        "colab": {
          "base_uri": "https://localhost:8080/"
        },
        "id": "c832GsyBHhIL",
        "outputId": "acb26f70-43ea-48d0-f301-32e61cc80c8c"
      },
      "execution_count": null,
      "outputs": [
        {
          "output_type": "execute_result",
          "data": {
            "text/plain": [
              "False"
            ]
          },
          "metadata": {},
          "execution_count": 11
        }
      ]
    },
    {
      "cell_type": "code",
      "source": [
        "class NeuralNetwork(nn.Module):\n",
        "    def __init__(self, num_hidden_layers, hidden_size, activation_fn, input_size, device):\n",
        "        super().__init__()\n",
        "        # get model architecture parameters\n",
        "        assert num_hidden_layers != 0, \"Please input a nonzero number of hidden layers\"\n",
        "        self.num_hidden_layers = num_hidden_layers\n",
        "        self.hidden_size = hidden_size\n",
        "        self.activation_fn = activation_fn\n",
        "        self.device = device\n",
        "\n",
        "        # wire together the layers\n",
        "        layers = nn.ModuleList()\n",
        "        layers.append(nn.Linear(input_size, self.hidden_size))\n",
        "        for layer in range(self.num_hidden_layers):\n",
        "            if layer == self.num_hidden_layers - 1:\n",
        "                layers.append(nn.Linear(self.hidden_size, output_size))\n",
        "                # since activation_fn is ReLU, we are not adding it here so we can return values < 0\n",
        "            else:\n",
        "                layers.append(nn.Linear(self.hidden_size, self.hidden_size))\n",
        "                layers.append(activation_fn)\n",
        "\n",
        "        self.layers = nn.Sequential(*layers)\n",
        "\n",
        "    def forward(self, x):\n",
        "        x_and_x_squared = torch.concatenate([x, torch.square(x)], dim=1)\n",
        "        return self.layers(x_and_x_squared)"
      ],
      "metadata": {
        "id": "FBMJ6KN_Go5_"
      },
      "execution_count": null,
      "outputs": []
    },
    {
      "cell_type": "code",
      "source": [
        "def train(model, optimizer, x_train, y_train, x_val, y_val):\n",
        "\n",
        "    # move data to gpu\n",
        "    x_train = x_train.to(model.device)\n",
        "    y_train = y_train.to(model.device)\n",
        "    x_val = x_val.to(model.device)\n",
        "    y_val = y_val.to(model.device)\n",
        "\n",
        "    print('Before')\n",
        "    print(f'Train loss (over entire dataset): {F.l1_loss(model(x_train), y_train, reduction=\"mean\")}')\n",
        "    print(f'Val loss: {F.l1_loss(model(x_val), y_val, reduction=\"mean\")}')\n",
        "\n",
        "    for epoch_index in tqdm(range(num_epochs)):\n",
        "        index = 0\n",
        "        while index + batch_size < x_train.shape[0]:\n",
        "            x_batch = x_train[index:index + batch_size]\n",
        "            y_batch = y_train[index:index + batch_size]\n",
        "            index += batch_size\n",
        "\n",
        "            l = F.l1_loss(model(x_batch), y_batch, reduction=\"mean\")\n",
        "            optimizer.zero_grad()\n",
        "\n",
        "            l.backward()\n",
        "            optimizer.step()\n",
        "\n",
        "        if epoch_index % 100 == 0:\n",
        "            print(f'Train loss (last batch): {F.l1_loss(model(x_batch), y_batch, reduction=\"mean\")}')\n",
        "            print(f'Val loss: {F.l1_loss(model(x_val), y_val, reduction=\"mean\")}')\n",
        "\n",
        "    print('After')\n",
        "    print(f'Train loss (over entire dataset): {F.l1_loss(model(x_train), y_train, reduction=\"mean\")}')\n",
        "    print(f'Val loss: {F.l1_loss(model(x_val), y_val, reduction=\"mean\")}')"
      ],
      "metadata": {
        "id": "ds4nSywbGsrr"
      },
      "execution_count": null,
      "outputs": []
    },
    {
      "cell_type": "code",
      "source": [
        "# model params\n",
        "num_hidden_layers = 10\n",
        "hidden_size = 64\n",
        "activation_fn = nn.ReLU()\n",
        "input_size = 2\n",
        "output_size = 1\n",
        "batch_size = 100\n",
        "\n",
        "# training hyperparams\n",
        "num_epochs = 7000\n",
        "lr = 0.0005"
      ],
      "metadata": {
        "id": "hRFNg4e2Gwxl"
      },
      "execution_count": null,
      "outputs": []
    },
    {
      "cell_type": "code",
      "source": [
        "# set up device\n",
        "assert torch.cuda.is_available(), \"Cuda not available\"\n",
        "device = torch.device(\"cuda:0\")\n",
        "\n",
        "# create model\n",
        "model = NeuralNetwork(num_hidden_layers, hidden_size, activation_fn, input_size, device)\n",
        "\n",
        "# move the model to the gpu\n",
        "model = model.to(device)\n",
        "\n",
        "optimizer = optim.SGD(params=model.parameters(), lr = lr)\n",
        "train(model, optimizer, x_train, y_train, x_val, y_val)"
      ],
      "metadata": {
        "colab": {
          "base_uri": "https://localhost:8080/"
        },
        "id": "jBQvYrN2Iny7",
        "outputId": "5b3895bd-231c-43ab-f8d4-a3cf96f8809f"
      },
      "execution_count": null,
      "outputs": [
        {
          "output_type": "stream",
          "name": "stdout",
          "text": [
            "Before\n",
            "Train loss (over entire dataset): 14.84776782989502\n",
            "Val loss: 15.805926322937012\n"
          ]
        },
        {
          "output_type": "stream",
          "name": "stderr",
          "text": [
            "  0%|          | 12/7000 [00:00<01:02, 111.27it/s]"
          ]
        },
        {
          "output_type": "stream",
          "name": "stdout",
          "text": [
            "Train loss (last batch): 14.83549976348877\n",
            "Val loss: 15.803678512573242\n"
          ]
        },
        {
          "output_type": "stream",
          "name": "stderr",
          "text": [
            "  2%|▏         | 119/7000 [00:01<01:02, 109.96it/s]"
          ]
        },
        {
          "output_type": "stream",
          "name": "stdout",
          "text": [
            "Train loss (last batch): 14.609248161315918\n",
            "Val loss: 15.584672927856445\n"
          ]
        },
        {
          "output_type": "stream",
          "name": "stderr",
          "text": [
            "  3%|▎         | 228/7000 [00:01<00:49, 136.83it/s]"
          ]
        },
        {
          "output_type": "stream",
          "name": "stdout",
          "text": [
            "Train loss (last batch): 14.315067291259766\n",
            "Val loss: 15.291354179382324\n"
          ]
        },
        {
          "output_type": "stream",
          "name": "stderr",
          "text": [
            "  5%|▍         | 329/7000 [00:02<00:48, 138.91it/s]"
          ]
        },
        {
          "output_type": "stream",
          "name": "stdout",
          "text": [
            "Train loss (last batch): 4.3237738609313965\n",
            "Val loss: 4.335244178771973\n"
          ]
        },
        {
          "output_type": "stream",
          "name": "stderr",
          "text": [
            "  6%|▌         | 419/7000 [00:03<00:46, 140.80it/s]"
          ]
        },
        {
          "output_type": "stream",
          "name": "stdout",
          "text": [
            "Train loss (last batch): 4.175886631011963\n",
            "Val loss: 4.224516868591309\n"
          ]
        },
        {
          "output_type": "stream",
          "name": "stderr",
          "text": [
            "  8%|▊         | 526/7000 [00:04<00:44, 146.17it/s]"
          ]
        },
        {
          "output_type": "stream",
          "name": "stdout",
          "text": [
            "Train loss (last batch): 4.033877372741699\n",
            "Val loss: 4.123777389526367\n"
          ]
        },
        {
          "output_type": "stream",
          "name": "stderr",
          "text": [
            "  9%|▉         | 616/7000 [00:04<00:43, 146.19it/s]"
          ]
        },
        {
          "output_type": "stream",
          "name": "stdout",
          "text": [
            "Train loss (last batch): 3.8773319721221924\n",
            "Val loss: 4.00081729888916\n"
          ]
        },
        {
          "output_type": "stream",
          "name": "stderr",
          "text": [
            " 10%|█         | 722/7000 [00:05<00:44, 139.87it/s]"
          ]
        },
        {
          "output_type": "stream",
          "name": "stdout",
          "text": [
            "Train loss (last batch): 3.6990504264831543\n",
            "Val loss: 3.8858094215393066\n"
          ]
        },
        {
          "output_type": "stream",
          "name": "stderr",
          "text": [
            " 12%|█▏        | 828/7000 [00:06<00:42, 145.82it/s]"
          ]
        },
        {
          "output_type": "stream",
          "name": "stdout",
          "text": [
            "Train loss (last batch): 3.5059685707092285\n",
            "Val loss: 3.7424800395965576\n"
          ]
        },
        {
          "output_type": "stream",
          "name": "stderr",
          "text": [
            " 13%|█▎        | 917/7000 [00:06<00:44, 135.99it/s]"
          ]
        },
        {
          "output_type": "stream",
          "name": "stdout",
          "text": [
            "Train loss (last batch): 3.2658421993255615\n",
            "Val loss: 3.5236778259277344\n"
          ]
        },
        {
          "output_type": "stream",
          "name": "stderr",
          "text": [
            " 15%|█▍        | 1023/7000 [00:07<00:42, 142.10it/s]"
          ]
        },
        {
          "output_type": "stream",
          "name": "stdout",
          "text": [
            "Train loss (last batch): 2.8798296451568604\n",
            "Val loss: 3.1009793281555176\n"
          ]
        },
        {
          "output_type": "stream",
          "name": "stderr",
          "text": [
            " 16%|█▌        | 1128/7000 [00:08<00:40, 143.75it/s]"
          ]
        },
        {
          "output_type": "stream",
          "name": "stdout",
          "text": [
            "Train loss (last batch): 2.6491482257843018\n",
            "Val loss: 2.8654165267944336\n"
          ]
        },
        {
          "output_type": "stream",
          "name": "stderr",
          "text": [
            " 17%|█▋        | 1217/7000 [00:08<00:40, 142.37it/s]"
          ]
        },
        {
          "output_type": "stream",
          "name": "stdout",
          "text": [
            "Train loss (last batch): 2.623912811279297\n",
            "Val loss: 2.834594488143921\n"
          ]
        },
        {
          "output_type": "stream",
          "name": "stderr",
          "text": [
            " 19%|█▉        | 1322/7000 [00:09<00:39, 143.15it/s]"
          ]
        },
        {
          "output_type": "stream",
          "name": "stdout",
          "text": [
            "Train loss (last batch): 2.597721815109253\n",
            "Val loss: 2.808511734008789\n"
          ]
        },
        {
          "output_type": "stream",
          "name": "stderr",
          "text": [
            " 20%|██        | 1428/7000 [00:10<00:38, 142.95it/s]"
          ]
        },
        {
          "output_type": "stream",
          "name": "stdout",
          "text": [
            "Train loss (last batch): 2.60017728805542\n",
            "Val loss: 2.8881242275238037\n"
          ]
        },
        {
          "output_type": "stream",
          "name": "stderr",
          "text": [
            " 22%|██▏       | 1517/7000 [00:11<00:39, 137.85it/s]"
          ]
        },
        {
          "output_type": "stream",
          "name": "stdout",
          "text": [
            "Train loss (last batch): 2.581188201904297\n",
            "Val loss: 2.8611385822296143\n"
          ]
        },
        {
          "output_type": "stream",
          "name": "stderr",
          "text": [
            " 23%|██▎       | 1622/7000 [00:11<00:52, 102.98it/s]"
          ]
        },
        {
          "output_type": "stream",
          "name": "stdout",
          "text": [
            "Train loss (last batch): 2.5468170642852783\n",
            "Val loss: 2.7690939903259277\n"
          ]
        },
        {
          "output_type": "stream",
          "name": "stderr",
          "text": [
            " 24%|██▍       | 1706/7000 [00:13<01:10, 75.24it/s]"
          ]
        },
        {
          "output_type": "stream",
          "name": "stdout",
          "text": [
            "Train loss (last batch): 2.5421574115753174\n",
            "Val loss: 2.7651784420013428\n"
          ]
        },
        {
          "output_type": "stream",
          "name": "stderr",
          "text": [
            " 26%|██▌       | 1817/7000 [00:14<00:52, 99.54it/s]"
          ]
        },
        {
          "output_type": "stream",
          "name": "stdout",
          "text": [
            "Train loss (last batch): 2.5555529594421387\n",
            "Val loss: 2.836276054382324\n"
          ]
        },
        {
          "output_type": "stream",
          "name": "stderr",
          "text": [
            " 27%|██▋       | 1905/7000 [00:15<00:42, 119.78it/s]"
          ]
        },
        {
          "output_type": "stream",
          "name": "stdout",
          "text": [
            "Train loss (last batch): 2.5249104499816895\n",
            "Val loss: 2.7411606311798096\n"
          ]
        },
        {
          "output_type": "stream",
          "name": "stderr",
          "text": [
            " 29%|██▉       | 2028/7000 [00:16<00:37, 133.84it/s]"
          ]
        },
        {
          "output_type": "stream",
          "name": "stdout",
          "text": [
            "Train loss (last batch): 2.70162034034729\n",
            "Val loss: 3.0692198276519775\n"
          ]
        },
        {
          "output_type": "stream",
          "name": "stderr",
          "text": [
            " 30%|███       | 2116/7000 [00:16<00:35, 138.11it/s]"
          ]
        },
        {
          "output_type": "stream",
          "name": "stdout",
          "text": [
            "Train loss (last batch): 2.80375599861145\n",
            "Val loss: 3.187617301940918\n"
          ]
        },
        {
          "output_type": "stream",
          "name": "stderr",
          "text": [
            " 32%|███▏      | 2220/7000 [00:17<00:33, 143.28it/s]"
          ]
        },
        {
          "output_type": "stream",
          "name": "stdout",
          "text": [
            "Train loss (last batch): 2.5035593509674072\n",
            "Val loss: 2.730746269226074\n"
          ]
        },
        {
          "output_type": "stream",
          "name": "stderr",
          "text": [
            " 33%|███▎      | 2325/7000 [00:18<00:33, 141.02it/s]"
          ]
        },
        {
          "output_type": "stream",
          "name": "stdout",
          "text": [
            "Train loss (last batch): 2.5230369567871094\n",
            "Val loss: 2.7994978427886963\n"
          ]
        },
        {
          "output_type": "stream",
          "name": "stderr",
          "text": [
            " 35%|███▍      | 2417/7000 [00:18<00:31, 144.97it/s]"
          ]
        },
        {
          "output_type": "stream",
          "name": "stdout",
          "text": [
            "Train loss (last batch): 2.521886110305786\n",
            "Val loss: 2.8027398586273193\n"
          ]
        },
        {
          "output_type": "stream",
          "name": "stderr",
          "text": [
            " 36%|███▌      | 2522/7000 [00:19<00:30, 144.53it/s]"
          ]
        },
        {
          "output_type": "stream",
          "name": "stdout",
          "text": [
            "Train loss (last batch): 2.505497932434082\n",
            "Val loss: 2.7716073989868164\n"
          ]
        },
        {
          "output_type": "stream",
          "name": "stderr",
          "text": [
            " 37%|███▋      | 2621/7000 [00:20<00:32, 135.80it/s]"
          ]
        },
        {
          "output_type": "stream",
          "name": "stdout",
          "text": [
            "Train loss (last batch): 2.510133981704712\n",
            "Val loss: 2.7932982444763184\n"
          ]
        },
        {
          "output_type": "stream",
          "name": "stderr",
          "text": [
            " 39%|███▉      | 2721/7000 [00:21<00:30, 139.84it/s]"
          ]
        },
        {
          "output_type": "stream",
          "name": "stdout",
          "text": [
            "Train loss (last batch): 2.5047690868377686\n",
            "Val loss: 2.7808678150177\n"
          ]
        },
        {
          "output_type": "stream",
          "name": "stderr",
          "text": [
            " 40%|████      | 2826/7000 [00:21<00:29, 139.43it/s]"
          ]
        },
        {
          "output_type": "stream",
          "name": "stdout",
          "text": [
            "Train loss (last batch): 2.483415365219116\n",
            "Val loss: 2.691835641860962\n"
          ]
        },
        {
          "output_type": "stream",
          "name": "stderr",
          "text": [
            " 42%|████▏     | 2930/7000 [00:22<00:28, 143.71it/s]"
          ]
        },
        {
          "output_type": "stream",
          "name": "stdout",
          "text": [
            "Train loss (last batch): 2.5709664821624756\n",
            "Val loss: 2.8360795974731445\n"
          ]
        },
        {
          "output_type": "stream",
          "name": "stderr",
          "text": [
            " 43%|████▎     | 3020/7000 [00:23<00:27, 143.21it/s]"
          ]
        },
        {
          "output_type": "stream",
          "name": "stdout",
          "text": [
            "Train loss (last batch): 2.546997308731079\n",
            "Val loss: 2.854501247406006\n"
          ]
        },
        {
          "output_type": "stream",
          "name": "stderr",
          "text": [
            " 45%|████▍     | 3125/7000 [00:23<00:27, 140.63it/s]"
          ]
        },
        {
          "output_type": "stream",
          "name": "stdout",
          "text": [
            "Train loss (last batch): 2.48044753074646\n",
            "Val loss: 2.6894707679748535\n"
          ]
        },
        {
          "output_type": "stream",
          "name": "stderr",
          "text": [
            " 46%|████▌     | 3213/7000 [00:24<00:30, 123.10it/s]"
          ]
        },
        {
          "output_type": "stream",
          "name": "stdout",
          "text": [
            "Train loss (last batch): 2.45919132232666\n",
            "Val loss: 2.6892712116241455\n"
          ]
        },
        {
          "output_type": "stream",
          "name": "stderr",
          "text": [
            " 47%|████▋     | 3323/7000 [00:25<00:32, 114.41it/s]"
          ]
        },
        {
          "output_type": "stream",
          "name": "stdout",
          "text": [
            "Train loss (last batch): 2.523188591003418\n",
            "Val loss: 2.8149726390838623\n"
          ]
        },
        {
          "output_type": "stream",
          "name": "stderr",
          "text": [
            " 49%|████▉     | 3419/7000 [00:26<00:30, 115.65it/s]"
          ]
        },
        {
          "output_type": "stream",
          "name": "stdout",
          "text": [
            "Train loss (last batch): 2.526339054107666\n",
            "Val loss: 2.82570219039917\n"
          ]
        },
        {
          "output_type": "stream",
          "name": "stderr",
          "text": [
            " 50%|█████     | 3515/7000 [00:27<00:29, 119.95it/s]"
          ]
        },
        {
          "output_type": "stream",
          "name": "stdout",
          "text": [
            "Train loss (last batch): 2.4530928134918213\n",
            "Val loss: 2.684931993484497\n"
          ]
        },
        {
          "output_type": "stream",
          "name": "stderr",
          "text": [
            " 52%|█████▏    | 3619/7000 [00:28<00:24, 139.01it/s]"
          ]
        },
        {
          "output_type": "stream",
          "name": "stdout",
          "text": [
            "Train loss (last batch): 2.561837673187256\n",
            "Val loss: 2.875462770462036\n"
          ]
        },
        {
          "output_type": "stream",
          "name": "stderr",
          "text": [
            " 53%|█████▎    | 3725/7000 [00:28<00:22, 145.19it/s]"
          ]
        },
        {
          "output_type": "stream",
          "name": "stdout",
          "text": [
            "Train loss (last batch): 2.4872560501098633\n",
            "Val loss: 2.7507309913635254\n"
          ]
        },
        {
          "output_type": "stream",
          "name": "stderr",
          "text": [
            " 55%|█████▍    | 3830/7000 [00:29<00:22, 143.65it/s]"
          ]
        },
        {
          "output_type": "stream",
          "name": "stdout",
          "text": [
            "Train loss (last batch): 2.4511845111846924\n",
            "Val loss: 2.6869635581970215\n"
          ]
        },
        {
          "output_type": "stream",
          "name": "stderr",
          "text": [
            " 56%|█████▌    | 3920/7000 [00:30<00:21, 142.20it/s]"
          ]
        },
        {
          "output_type": "stream",
          "name": "stdout",
          "text": [
            "Train loss (last batch): 2.4470551013946533\n",
            "Val loss: 2.680732011795044\n"
          ]
        },
        {
          "output_type": "stream",
          "name": "stderr",
          "text": [
            " 57%|█████▊    | 4025/7000 [00:30<00:20, 144.65it/s]"
          ]
        },
        {
          "output_type": "stream",
          "name": "stdout",
          "text": [
            "Train loss (last batch): 2.546342372894287\n",
            "Val loss: 2.851073980331421\n"
          ]
        },
        {
          "output_type": "stream",
          "name": "stderr",
          "text": [
            " 59%|█████▉    | 4128/7000 [00:31<00:20, 143.17it/s]"
          ]
        },
        {
          "output_type": "stream",
          "name": "stdout",
          "text": [
            "Train loss (last batch): 2.4527013301849365\n",
            "Val loss: 2.6524386405944824\n"
          ]
        },
        {
          "output_type": "stream",
          "name": "stderr",
          "text": [
            " 60%|██████    | 4218/7000 [00:32<00:19, 139.15it/s]"
          ]
        },
        {
          "output_type": "stream",
          "name": "stdout",
          "text": [
            "Train loss (last batch): 2.6487221717834473\n",
            "Val loss: 2.948391914367676\n"
          ]
        },
        {
          "output_type": "stream",
          "name": "stderr",
          "text": [
            " 62%|██████▏   | 4323/7000 [00:33<00:18, 144.89it/s]"
          ]
        },
        {
          "output_type": "stream",
          "name": "stdout",
          "text": [
            "Train loss (last batch): 2.4509310722351074\n",
            "Val loss: 2.658717632293701\n"
          ]
        },
        {
          "output_type": "stream",
          "name": "stderr",
          "text": [
            " 63%|██████▎   | 4428/7000 [00:33<00:17, 144.37it/s]"
          ]
        },
        {
          "output_type": "stream",
          "name": "stdout",
          "text": [
            "Train loss (last batch): 2.4580366611480713\n",
            "Val loss: 2.689750909805298\n"
          ]
        },
        {
          "output_type": "stream",
          "name": "stderr",
          "text": [
            " 65%|██████▍   | 4518/7000 [00:34<00:17, 142.08it/s]"
          ]
        },
        {
          "output_type": "stream",
          "name": "stdout",
          "text": [
            "Train loss (last batch): 2.4451637268066406\n",
            "Val loss: 2.663327217102051\n"
          ]
        },
        {
          "output_type": "stream",
          "name": "stderr",
          "text": [
            " 66%|██████▌   | 4623/7000 [00:35<00:16, 145.78it/s]"
          ]
        },
        {
          "output_type": "stream",
          "name": "stdout",
          "text": [
            "Train loss (last batch): 2.4662792682647705\n",
            "Val loss: 2.658043146133423\n"
          ]
        },
        {
          "output_type": "stream",
          "name": "stderr",
          "text": [
            " 68%|██████▊   | 4728/7000 [00:35<00:15, 142.63it/s]"
          ]
        },
        {
          "output_type": "stream",
          "name": "stdout",
          "text": [
            "Train loss (last batch): 2.550684690475464\n",
            "Val loss: 2.7762222290039062\n"
          ]
        },
        {
          "output_type": "stream",
          "name": "stderr",
          "text": [
            " 69%|██████▉   | 4818/7000 [00:36<00:15, 141.96it/s]"
          ]
        },
        {
          "output_type": "stream",
          "name": "stdout",
          "text": [
            "Train loss (last batch): 2.4459645748138428\n",
            "Val loss: 2.6826999187469482\n"
          ]
        },
        {
          "output_type": "stream",
          "name": "stderr",
          "text": [
            " 70%|███████   | 4923/7000 [00:37<00:16, 127.58it/s]"
          ]
        },
        {
          "output_type": "stream",
          "name": "stdout",
          "text": [
            "Train loss (last batch): 2.5022335052490234\n",
            "Val loss: 2.791405439376831\n"
          ]
        },
        {
          "output_type": "stream",
          "name": "stderr",
          "text": [
            " 72%|███████▏  | 5022/7000 [00:38<00:17, 113.76it/s]"
          ]
        },
        {
          "output_type": "stream",
          "name": "stdout",
          "text": [
            "Train loss (last batch): 2.4441254138946533\n",
            "Val loss: 2.6804916858673096\n"
          ]
        },
        {
          "output_type": "stream",
          "name": "stderr",
          "text": [
            " 73%|███████▎  | 5119/7000 [00:39<00:16, 116.09it/s]"
          ]
        },
        {
          "output_type": "stream",
          "name": "stdout",
          "text": [
            "Train loss (last batch): 2.524995803833008\n",
            "Val loss: 2.822190046310425\n"
          ]
        },
        {
          "output_type": "stream",
          "name": "stderr",
          "text": [
            " 74%|███████▍  | 5213/7000 [00:39<00:16, 107.33it/s]"
          ]
        },
        {
          "output_type": "stream",
          "name": "stdout",
          "text": [
            "Train loss (last batch): 2.4352378845214844\n",
            "Val loss: 2.656236410140991\n"
          ]
        },
        {
          "output_type": "stream",
          "name": "stderr",
          "text": [
            " 76%|███████▌  | 5330/7000 [00:40<00:11, 142.02it/s]"
          ]
        },
        {
          "output_type": "stream",
          "name": "stdout",
          "text": [
            "Train loss (last batch): 2.4496731758117676\n",
            "Val loss: 2.694605588912964\n"
          ]
        },
        {
          "output_type": "stream",
          "name": "stderr",
          "text": [
            " 77%|███████▋  | 5419/7000 [00:41<00:11, 139.31it/s]"
          ]
        },
        {
          "output_type": "stream",
          "name": "stdout",
          "text": [
            "Train loss (last batch): 2.4396438598632812\n",
            "Val loss: 2.6509358882904053\n"
          ]
        },
        {
          "output_type": "stream",
          "name": "stderr",
          "text": [
            " 79%|███████▉  | 5523/7000 [00:42<00:10, 144.43it/s]"
          ]
        },
        {
          "output_type": "stream",
          "name": "stdout",
          "text": [
            "Train loss (last batch): 2.6010217666625977\n",
            "Val loss: 2.880004405975342\n"
          ]
        },
        {
          "output_type": "stream",
          "name": "stderr",
          "text": [
            " 80%|████████  | 5628/7000 [00:42<00:09, 143.06it/s]"
          ]
        },
        {
          "output_type": "stream",
          "name": "stdout",
          "text": [
            "Train loss (last batch): 2.4376533031463623\n",
            "Val loss: 2.651930093765259\n"
          ]
        },
        {
          "output_type": "stream",
          "name": "stderr",
          "text": [
            " 82%|████████▏ | 5718/7000 [00:43<00:09, 140.12it/s]"
          ]
        },
        {
          "output_type": "stream",
          "name": "stdout",
          "text": [
            "Train loss (last batch): 2.532005786895752\n",
            "Val loss: 2.830693483352661\n"
          ]
        },
        {
          "output_type": "stream",
          "name": "stderr",
          "text": [
            " 83%|████████▎ | 5823/7000 [00:44<00:08, 141.22it/s]"
          ]
        },
        {
          "output_type": "stream",
          "name": "stdout",
          "text": [
            "Train loss (last batch): 2.4340317249298096\n",
            "Val loss: 2.6542646884918213\n"
          ]
        },
        {
          "output_type": "stream",
          "name": "stderr",
          "text": [
            " 85%|████████▍ | 5928/7000 [00:44<00:07, 140.58it/s]"
          ]
        },
        {
          "output_type": "stream",
          "name": "stdout",
          "text": [
            "Train loss (last batch): 2.4337844848632812\n",
            "Val loss: 2.659743309020996\n"
          ]
        },
        {
          "output_type": "stream",
          "name": "stderr",
          "text": [
            " 86%|████████▌ | 6018/7000 [00:45<00:06, 141.77it/s]"
          ]
        },
        {
          "output_type": "stream",
          "name": "stdout",
          "text": [
            "Train loss (last batch): 2.435333728790283\n",
            "Val loss: 2.652691602706909\n"
          ]
        },
        {
          "output_type": "stream",
          "name": "stderr",
          "text": [
            " 87%|████████▋ | 6124/7000 [00:46<00:06, 144.34it/s]"
          ]
        },
        {
          "output_type": "stream",
          "name": "stdout",
          "text": [
            "Train loss (last batch): 2.4306156635284424\n",
            "Val loss: 2.6564083099365234\n"
          ]
        },
        {
          "output_type": "stream",
          "name": "stderr",
          "text": [
            " 89%|████████▉ | 6229/7000 [00:47<00:05, 142.24it/s]"
          ]
        },
        {
          "output_type": "stream",
          "name": "stdout",
          "text": [
            "Train loss (last batch): 2.468177556991577\n",
            "Val loss: 2.7422502040863037\n"
          ]
        },
        {
          "output_type": "stream",
          "name": "stderr",
          "text": [
            " 90%|█████████ | 6319/7000 [00:47<00:04, 139.48it/s]"
          ]
        },
        {
          "output_type": "stream",
          "name": "stdout",
          "text": [
            "Train loss (last batch): 2.4320781230926514\n",
            "Val loss: 2.65517258644104\n"
          ]
        },
        {
          "output_type": "stream",
          "name": "stderr",
          "text": [
            " 92%|█████████▏| 6423/7000 [00:48<00:04, 141.55it/s]"
          ]
        },
        {
          "output_type": "stream",
          "name": "stdout",
          "text": [
            "Train loss (last batch): 2.4353952407836914\n",
            "Val loss: 2.6585004329681396\n"
          ]
        },
        {
          "output_type": "stream",
          "name": "stderr",
          "text": [
            " 93%|█████████▎| 6528/7000 [00:49<00:03, 145.32it/s]"
          ]
        },
        {
          "output_type": "stream",
          "name": "stdout",
          "text": [
            "Train loss (last batch): 2.475598096847534\n",
            "Val loss: 2.747880458831787\n"
          ]
        },
        {
          "output_type": "stream",
          "name": "stderr",
          "text": [
            " 95%|█████████▍| 6618/7000 [00:49<00:02, 144.28it/s]"
          ]
        },
        {
          "output_type": "stream",
          "name": "stdout",
          "text": [
            "Train loss (last batch): 2.4354798793792725\n",
            "Val loss: 2.6542446613311768\n"
          ]
        },
        {
          "output_type": "stream",
          "name": "stderr",
          "text": [
            " 96%|█████████▌| 6719/7000 [00:50<00:02, 104.15it/s]"
          ]
        },
        {
          "output_type": "stream",
          "name": "stdout",
          "text": [
            "Train loss (last batch): 2.432751178741455\n",
            "Val loss: 2.660198926925659\n"
          ]
        },
        {
          "output_type": "stream",
          "name": "stderr",
          "text": [
            " 97%|█████████▋| 6814/7000 [00:51<00:01, 109.83it/s]"
          ]
        },
        {
          "output_type": "stream",
          "name": "stdout",
          "text": [
            "Train loss (last batch): 2.4309680461883545\n",
            "Val loss: 2.661991834640503\n"
          ]
        },
        {
          "output_type": "stream",
          "name": "stderr",
          "text": [
            " 99%|█████████▊| 6911/7000 [00:52<00:00, 111.28it/s]"
          ]
        },
        {
          "output_type": "stream",
          "name": "stdout",
          "text": [
            "Train loss (last batch): 2.430938959121704\n",
            "Val loss: 2.657663583755493\n"
          ]
        },
        {
          "output_type": "stream",
          "name": "stderr",
          "text": [
            "100%|██████████| 7000/7000 [00:53<00:00, 131.71it/s]"
          ]
        },
        {
          "output_type": "stream",
          "name": "stdout",
          "text": [
            "After\n",
            "Train loss (over entire dataset): 2.556668996810913\n",
            "Val loss: 2.6559464931488037\n"
          ]
        },
        {
          "output_type": "stream",
          "name": "stderr",
          "text": [
            "\n"
          ]
        }
      ]
    },
    {
      "cell_type": "code",
      "source": [
        "# run this to check gpu usage\n",
        "!nvidia-smi"
      ],
      "metadata": {
        "colab": {
          "base_uri": "https://localhost:8080/"
        },
        "id": "edRKQNqcL9re",
        "outputId": "860ff600-5783-40d6-d4c6-80fe18719b70"
      },
      "execution_count": null,
      "outputs": [
        {
          "output_type": "stream",
          "name": "stdout",
          "text": [
            "Mon Dec 25 18:29:33 2023       \n",
            "+---------------------------------------------------------------------------------------+\n",
            "| NVIDIA-SMI 535.104.05             Driver Version: 535.104.05   CUDA Version: 12.2     |\n",
            "|-----------------------------------------+----------------------+----------------------+\n",
            "| GPU  Name                 Persistence-M | Bus-Id        Disp.A | Volatile Uncorr. ECC |\n",
            "| Fan  Temp   Perf          Pwr:Usage/Cap |         Memory-Usage | GPU-Util  Compute M. |\n",
            "|                                         |                      |               MIG M. |\n",
            "|=========================================+======================+======================|\n",
            "|   0  Tesla T4                       Off | 00000000:00:04.0 Off |                    0 |\n",
            "| N/A   74C    P0              32W /  70W |    161MiB / 15360MiB |     33%      Default |\n",
            "|                                         |                      |                  N/A |\n",
            "+-----------------------------------------+----------------------+----------------------+\n",
            "                                                                                         \n",
            "+---------------------------------------------------------------------------------------+\n",
            "| Processes:                                                                            |\n",
            "|  GPU   GI   CI        PID   Type   Process name                            GPU Memory |\n",
            "|        ID   ID                                                             Usage      |\n",
            "|=======================================================================================|\n",
            "+---------------------------------------------------------------------------------------+\n"
          ]
        }
      ]
    },
    {
      "cell_type": "code",
      "source": [
        "# run this to understand parameter details (including location)\n",
        "print(next(model.parameters()))"
      ],
      "metadata": {
        "colab": {
          "base_uri": "https://localhost:8080/"
        },
        "id": "yWtzy-bZMGjr",
        "outputId": "8f4aa9d2-8ec8-4f3f-b2d6-fcfb82d15eaa"
      },
      "execution_count": null,
      "outputs": [
        {
          "output_type": "stream",
          "name": "stdout",
          "text": [
            "Parameter containing:\n",
            "tensor([[ 0.2705,  0.6406],\n",
            "        [ 0.3549,  0.5755],\n",
            "        [ 0.2218,  0.6248],\n",
            "        [ 0.3187,  0.1795],\n",
            "        [-0.4024, -0.5736],\n",
            "        [-0.3015, -0.6328],\n",
            "        [-0.1746,  0.5418],\n",
            "        [ 0.4165, -0.2205],\n",
            "        [ 0.0573, -0.0356],\n",
            "        [ 0.5585, -0.1262],\n",
            "        [-0.2568, -0.0912],\n",
            "        [ 0.2531, -0.3199],\n",
            "        [-0.3449,  0.2945],\n",
            "        [-0.0171,  0.1362],\n",
            "        [-0.0817,  0.3839],\n",
            "        [ 0.5106,  0.5154],\n",
            "        [ 0.1247,  0.1591],\n",
            "        [-0.0246,  0.1554],\n",
            "        [-0.5653,  0.5225],\n",
            "        [ 0.5520, -0.2109],\n",
            "        [ 0.4561,  0.1426],\n",
            "        [ 0.5184, -0.5279],\n",
            "        [ 0.6444, -0.0143],\n",
            "        [-0.1452,  0.0509],\n",
            "        [-0.1744, -0.0528],\n",
            "        [ 0.5107, -0.2780],\n",
            "        [-0.0106,  0.5520],\n",
            "        [ 0.6675, -0.0084],\n",
            "        [-0.5573, -0.4282],\n",
            "        [ 0.6451, -0.2596],\n",
            "        [ 0.3369, -0.2458],\n",
            "        [-0.1428, -0.5503],\n",
            "        [-0.2027, -0.5993],\n",
            "        [-0.6980,  0.5754],\n",
            "        [ 0.4536, -0.3305],\n",
            "        [-0.5840, -0.6021],\n",
            "        [-0.6562, -0.1498],\n",
            "        [ 0.2160, -0.2859],\n",
            "        [-0.0023,  0.3819],\n",
            "        [-0.2050, -0.4112],\n",
            "        [-0.5797, -0.1864],\n",
            "        [ 0.0184,  0.3197],\n",
            "        [ 0.3883, -0.0911],\n",
            "        [-0.5145, -0.0669],\n",
            "        [ 0.7538,  0.5469],\n",
            "        [ 0.6825, -0.5689],\n",
            "        [-0.7549, -0.1231],\n",
            "        [-0.4831,  0.3624],\n",
            "        [-0.1817, -0.2255],\n",
            "        [-0.6115,  0.0152],\n",
            "        [ 0.6018,  0.2892],\n",
            "        [-0.4510,  0.3197],\n",
            "        [-0.6957,  0.2028],\n",
            "        [-0.7746,  0.6389],\n",
            "        [ 0.1553,  0.5514],\n",
            "        [ 0.1281,  0.3126],\n",
            "        [-0.6006, -0.1214],\n",
            "        [ 0.0288,  0.6311],\n",
            "        [ 0.6315, -0.2521],\n",
            "        [ 0.5790,  0.5117],\n",
            "        [ 0.7124,  0.5233],\n",
            "        [ 0.0834,  0.2613],\n",
            "        [ 0.0196, -0.2769],\n",
            "        [-0.7588, -0.1357]], device='cuda:0', requires_grad=True)\n"
          ]
        }
      ]
    },
    {
      "cell_type": "code",
      "source": [
        "x_val.device"
      ],
      "metadata": {
        "colab": {
          "base_uri": "https://localhost:8080/"
        },
        "id": "k2LBmXIwO7LZ",
        "outputId": "78ae0bfe-fccd-4cda-f251-e7c0d09f55c6"
      },
      "execution_count": null,
      "outputs": [
        {
          "output_type": "execute_result",
          "data": {
            "text/plain": [
              "device(type='cpu')"
            ]
          },
          "metadata": {},
          "execution_count": 46
        }
      ]
    },
    {
      "cell_type": "code",
      "source": [
        "plt.clf()\n",
        "\n",
        "assert y.shape == x.shape\n",
        "plt.scatter(x, y, c =\"blue\")\n",
        "\n",
        "assert x_val.shape == y_val.shape\n",
        "plt.scatter(x_val, model(x_val.to(\"cuda:0\")).detach().to(\"cpu\").numpy(), c=\"red\")"
      ],
      "metadata": {
        "colab": {
          "base_uri": "https://localhost:8080/",
          "height": 467
        },
        "id": "eUd4c4I5Gzyw",
        "outputId": "c733d5be-68c4-4130-a555-4d5d6e4c0359"
      },
      "execution_count": null,
      "outputs": [
        {
          "output_type": "execute_result",
          "data": {
            "text/plain": [
              "<matplotlib.collections.PathCollection at 0x7da5ac1b6530>"
            ]
          },
          "metadata": {},
          "execution_count": 47
        },
        {
          "output_type": "display_data",
          "data": {
            "text/plain": [
              "<Figure size 640x480 with 1 Axes>"
            ],
            "image/png": "[encoded data removed]"
          },
          "metadata": {}
        }
      ]
    }
  ]
}